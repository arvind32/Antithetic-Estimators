{
 "cells": [
  {
   "cell_type": "code",
   "execution_count": 9,
   "metadata": {},
   "outputs": [],
   "source": [
    "import pandas as pd\n",
    "import numpy as np\n",
    "import itertools\n",
    "import random\n",
    "from math import log, exp\n",
    "from statistics import median\n",
    "from scipy.stats._stats import _kendall_dis\n",
    "from sklearn.cluster import AgglomerativeClustering"
   ]
  },
  {
   "cell_type": "markdown",
   "metadata": {},
   "source": [
    "## Loading the sushi data"
   ]
  },
  {
   "cell_type": "code",
   "execution_count": 10,
   "metadata": {},
   "outputs": [],
   "source": [
    "user_data = pd.read_csv(\"Sushi_User Data_Filtered.csv\")\n",
    "pref_data = pd.read_csv(\"Sushi_Preference Rank_Filtered.csv\")"
   ]
  },
  {
   "cell_type": "code",
   "execution_count": 11,
   "metadata": {},
   "outputs": [
    {
     "data": {
      "text/html": [
       "<div>\n",
       "<style scoped>\n",
       "    .dataframe tbody tr th:only-of-type {\n",
       "        vertical-align: middle;\n",
       "    }\n",
       "\n",
       "    .dataframe tbody tr th {\n",
       "        vertical-align: top;\n",
       "    }\n",
       "\n",
       "    .dataframe thead th {\n",
       "        text-align: right;\n",
       "    }\n",
       "</style>\n",
       "<table border=\"1\" class=\"dataframe\">\n",
       "  <thead>\n",
       "    <tr style=\"text-align: right;\">\n",
       "      <th></th>\n",
       "      <th>User ID</th>\n",
       "      <th>Gender</th>\n",
       "      <th>Age</th>\n",
       "      <th>Time Needed</th>\n",
       "      <th>Prev_Prefecture</th>\n",
       "      <th>Prev_Region</th>\n",
       "      <th>Prev_Half</th>\n",
       "      <th>Curr_Prefecture</th>\n",
       "      <th>Curr_Region</th>\n",
       "      <th>Curr_Half</th>\n",
       "      <th>Moved</th>\n",
       "    </tr>\n",
       "  </thead>\n",
       "  <tbody>\n",
       "    <tr>\n",
       "      <th>0</th>\n",
       "      <td>9130</td>\n",
       "      <td>1</td>\n",
       "      <td>3</td>\n",
       "      <td>298</td>\n",
       "      <td>0</td>\n",
       "      <td>0</td>\n",
       "      <td>0</td>\n",
       "      <td>0</td>\n",
       "      <td>0</td>\n",
       "      <td>0</td>\n",
       "      <td>0</td>\n",
       "    </tr>\n",
       "    <tr>\n",
       "      <th>1</th>\n",
       "      <td>4849</td>\n",
       "      <td>0</td>\n",
       "      <td>3</td>\n",
       "      <td>303</td>\n",
       "      <td>0</td>\n",
       "      <td>0</td>\n",
       "      <td>0</td>\n",
       "      <td>0</td>\n",
       "      <td>0</td>\n",
       "      <td>0</td>\n",
       "      <td>0</td>\n",
       "    </tr>\n",
       "    <tr>\n",
       "      <th>2</th>\n",
       "      <td>3601</td>\n",
       "      <td>0</td>\n",
       "      <td>2</td>\n",
       "      <td>192</td>\n",
       "      <td>0</td>\n",
       "      <td>0</td>\n",
       "      <td>0</td>\n",
       "      <td>0</td>\n",
       "      <td>0</td>\n",
       "      <td>0</td>\n",
       "      <td>0</td>\n",
       "    </tr>\n",
       "    <tr>\n",
       "      <th>3</th>\n",
       "      <td>1422</td>\n",
       "      <td>0</td>\n",
       "      <td>3</td>\n",
       "      <td>206</td>\n",
       "      <td>0</td>\n",
       "      <td>0</td>\n",
       "      <td>0</td>\n",
       "      <td>0</td>\n",
       "      <td>0</td>\n",
       "      <td>0</td>\n",
       "      <td>0</td>\n",
       "    </tr>\n",
       "    <tr>\n",
       "      <th>4</th>\n",
       "      <td>6767</td>\n",
       "      <td>0</td>\n",
       "      <td>2</td>\n",
       "      <td>447</td>\n",
       "      <td>24</td>\n",
       "      <td>5</td>\n",
       "      <td>0</td>\n",
       "      <td>24</td>\n",
       "      <td>5</td>\n",
       "      <td>0</td>\n",
       "      <td>0</td>\n",
       "    </tr>\n",
       "  </tbody>\n",
       "</table>\n",
       "</div>"
      ],
      "text/plain": [
       "   User ID  Gender  Age  Time Needed  Prev_Prefecture  Prev_Region  Prev_Half  \\\n",
       "0     9130       1    3          298                0            0          0   \n",
       "1     4849       0    3          303                0            0          0   \n",
       "2     3601       0    2          192                0            0          0   \n",
       "3     1422       0    3          206                0            0          0   \n",
       "4     6767       0    2          447               24            5          0   \n",
       "\n",
       "   Curr_Prefecture  Curr_Region  Curr_Half  Moved  \n",
       "0                0            0          0      0  \n",
       "1                0            0          0      0  \n",
       "2                0            0          0      0  \n",
       "3                0            0          0      0  \n",
       "4               24            5          0      0  "
      ]
     },
     "execution_count": 11,
     "metadata": {},
     "output_type": "execute_result"
    }
   ],
   "source": [
    "user_data.head()"
   ]
  },
  {
   "cell_type": "code",
   "execution_count": 12,
   "metadata": {},
   "outputs": [
    {
     "data": {
      "text/html": [
       "<div>\n",
       "<style scoped>\n",
       "    .dataframe tbody tr th:only-of-type {\n",
       "        vertical-align: middle;\n",
       "    }\n",
       "\n",
       "    .dataframe tbody tr th {\n",
       "        vertical-align: top;\n",
       "    }\n",
       "\n",
       "    .dataframe thead th {\n",
       "        text-align: right;\n",
       "    }\n",
       "</style>\n",
       "<table border=\"1\" class=\"dataframe\">\n",
       "  <thead>\n",
       "    <tr style=\"text-align: right;\">\n",
       "      <th></th>\n",
       "      <th>User ID</th>\n",
       "      <th>Rank 1</th>\n",
       "      <th>Rank 2</th>\n",
       "      <th>Rank 3</th>\n",
       "      <th>Rank 4</th>\n",
       "      <th>Rank 5</th>\n",
       "      <th>Rank 6</th>\n",
       "      <th>Rank 7</th>\n",
       "      <th>Rank 8</th>\n",
       "      <th>Rank 9</th>\n",
       "      <th>Rank 10</th>\n",
       "    </tr>\n",
       "  </thead>\n",
       "  <tbody>\n",
       "    <tr>\n",
       "      <th>0</th>\n",
       "      <td>9130</td>\n",
       "      <td>2</td>\n",
       "      <td>7</td>\n",
       "      <td>5</td>\n",
       "      <td>8</td>\n",
       "      <td>0</td>\n",
       "      <td>9</td>\n",
       "      <td>4</td>\n",
       "      <td>3</td>\n",
       "      <td>1</td>\n",
       "      <td>6</td>\n",
       "    </tr>\n",
       "    <tr>\n",
       "      <th>1</th>\n",
       "      <td>4849</td>\n",
       "      <td>8</td>\n",
       "      <td>2</td>\n",
       "      <td>7</td>\n",
       "      <td>1</td>\n",
       "      <td>3</td>\n",
       "      <td>0</td>\n",
       "      <td>9</td>\n",
       "      <td>5</td>\n",
       "      <td>6</td>\n",
       "      <td>4</td>\n",
       "    </tr>\n",
       "    <tr>\n",
       "      <th>2</th>\n",
       "      <td>3601</td>\n",
       "      <td>7</td>\n",
       "      <td>2</td>\n",
       "      <td>5</td>\n",
       "      <td>8</td>\n",
       "      <td>6</td>\n",
       "      <td>0</td>\n",
       "      <td>3</td>\n",
       "      <td>9</td>\n",
       "      <td>4</td>\n",
       "      <td>1</td>\n",
       "    </tr>\n",
       "    <tr>\n",
       "      <th>3</th>\n",
       "      <td>1422</td>\n",
       "      <td>4</td>\n",
       "      <td>2</td>\n",
       "      <td>7</td>\n",
       "      <td>8</td>\n",
       "      <td>3</td>\n",
       "      <td>0</td>\n",
       "      <td>9</td>\n",
       "      <td>6</td>\n",
       "      <td>5</td>\n",
       "      <td>1</td>\n",
       "    </tr>\n",
       "    <tr>\n",
       "      <th>4</th>\n",
       "      <td>6767</td>\n",
       "      <td>5</td>\n",
       "      <td>0</td>\n",
       "      <td>3</td>\n",
       "      <td>7</td>\n",
       "      <td>2</td>\n",
       "      <td>1</td>\n",
       "      <td>8</td>\n",
       "      <td>6</td>\n",
       "      <td>9</td>\n",
       "      <td>4</td>\n",
       "    </tr>\n",
       "  </tbody>\n",
       "</table>\n",
       "</div>"
      ],
      "text/plain": [
       "   User ID  Rank 1  Rank 2  Rank 3  Rank 4  Rank 5  Rank 6  Rank 7  Rank 8  \\\n",
       "0     9130       2       7       5       8       0       9       4       3   \n",
       "1     4849       8       2       7       1       3       0       9       5   \n",
       "2     3601       7       2       5       8       6       0       3       9   \n",
       "3     1422       4       2       7       8       3       0       9       6   \n",
       "4     6767       5       0       3       7       2       1       8       6   \n",
       "\n",
       "   Rank 9  Rank 10  \n",
       "0       1        6  \n",
       "1       6        4  \n",
       "2       4        1  \n",
       "3       5        1  \n",
       "4       9        4  "
      ]
     },
     "execution_count": 12,
     "metadata": {},
     "output_type": "execute_result"
    }
   ],
   "source": [
    "pref_data.head()"
   ]
  },
  {
   "cell_type": "code",
   "execution_count": 13,
   "metadata": {},
   "outputs": [],
   "source": [
    "# Saving Users' Region, Full Ranking and Partial Ranking\n",
    "\n",
    "n = 20\n",
    "region = user_data.loc[0:n-1,'Curr_Half'].values\n",
    "or_region = user_data.loc[0:n-1,'Prev_Half'].values\n",
    "fullranking = pref_data.iloc[0:n,1:11].values\n",
    "topkranking = pref_data.iloc[0:n,1:5].values"
   ]
  },
  {
   "cell_type": "code",
   "execution_count": 14,
   "metadata": {},
   "outputs": [
    {
     "name": "stdout",
     "output_type": "stream",
     "text": [
      "(20,) \n",
      " (20,) \n",
      " (20, 10) \n",
      " (20, 4)\n"
     ]
    },
    {
     "data": {
      "text/plain": [
       "array([0, 0, 0, 0, 0, 1, 1, 1, 1, 1, 0, 0, 0, 0, 0, 1, 1, 1, 1, 1])"
      ]
     },
     "execution_count": 14,
     "metadata": {},
     "output_type": "execute_result"
    }
   ],
   "source": [
    "print(region.shape,\n",
    "      '\\n',or_region.shape,\n",
    "      '\\n',fullranking.shape,\n",
    "      '\\n', topkranking.shape)\n",
    "\n",
    "region"
   ]
  },
  {
   "cell_type": "markdown",
   "metadata": {},
   "source": [
    "## Calculating Kendall Distance between full rankings"
   ]
  },
  {
   "cell_type": "code",
   "execution_count": 15,
   "metadata": {},
   "outputs": [],
   "source": [
    "# Function to calculate Kendall Distance between 2 permutations\n",
    "\n",
    "def kendallTau(X, Y):\n",
    "    \n",
    "    A = list(X)\n",
    "    B = list(Y)\n",
    "    c_d = [0,0]\n",
    "    \n",
    "    # Set of all possible object pairs\n",
    "    pairs = itertools.combinations(range(10), 2)\n",
    "    \n",
    "    for x, y in pairs:\n",
    "        a = A.index(x) - A.index(y) # relative position in Permutation A\n",
    "        b = B.index(x) - B.index(y) # relative position in Permutation B\n",
    "        \n",
    "        if a * b < 0:\n",
    "            c_d[1] += 1             # if the pair is discordant\n",
    "        if a * b > 0:\n",
    "            c_d[0] += 1             # if the pair is concordant\n",
    "            \n",
    "    return c_d"
   ]
  },
  {
   "cell_type": "code",
   "execution_count": 16,
   "metadata": {},
   "outputs": [],
   "source": [
    "# Kendall Distance matrix for full rankings\n",
    "\n",
    "D = np.zeros( (n, n), dtype=int )\n",
    "C = np.zeros( (n, n), dtype=int )\n",
    "\n",
    "for i in range(n):\n",
    "    \n",
    "    for j in range(n):\n",
    "      \n",
    "        C[i][j],D[i][j] = kendallTau(fullranking[i],fullranking[j])"
   ]
  },
  {
   "cell_type": "markdown",
   "metadata": {},
   "source": [
    "## Calculating Kernel Bandwidth using median distance criterion"
   ]
  },
  {
   "cell_type": "markdown",
   "metadata": {},
   "source": [
    "##### Formula from https://arxiv.org/pdf/1708.05106.pdf"
   ]
  },
  {
   "cell_type": "code",
   "execution_count": 111,
   "metadata": {},
   "outputs": [
    {
     "name": "stdout",
     "output_type": "stream",
     "text": [
      "Median distance =  18.0\n",
      "Scaling factor for Mallows Kernel:  0.0922293608473304\n"
     ]
    }
   ],
   "source": [
    "# Calculating median distance\n",
    "\n",
    "l = []\n",
    "\n",
    "for i in range(n):\n",
    "    \n",
    "    for j in range(n):\n",
    "    \n",
    "        if i<j:\n",
    "           \n",
    "            l.append(D[i][j])\n",
    "\n",
    "median_dist = median(l)\n",
    "\n",
    "print('Median distance = ', median_dist)\n",
    "\n",
    "# Tolerance of sqrt(2) * 10^(-6) recommended by above research paper\n",
    "delta_square = 2 * pow(10,-12)        \n",
    "\n",
    "# Denominator of bandwidth formula\n",
    "Dr = pow( log( (n-1) / delta_square ) , 0.5)\n",
    "\n",
    "# Kernel bandwidth formula according to above research paper\n",
    "s = median_dist/Dr\n",
    "\n",
    "# Scaling factor\n",
    "v = pow(1/s , 2)\n",
    "\n",
    "print(\"Scaling factor for Mallows Kernel: \", v)"
   ]
  },
  {
   "cell_type": "markdown",
   "metadata": {},
   "source": [
    "## Calculating Tree Purity for full ranking Gram Matrix"
   ]
  },
  {
   "cell_type": "code",
   "execution_count": 112,
   "metadata": {},
   "outputs": [
    {
     "name": "stdout",
     "output_type": "stream",
     "text": [
      "\n",
      "Tree purity for full ranking:  0.55\n"
     ]
    }
   ],
   "source": [
    "G = np.zeros( (n, n), dtype=float )\n",
    "\n",
    "for i in range(n):\n",
    "    \n",
    "    for j in range(n):\n",
    "        \n",
    "        # Mallows Kernel using Kendall Distance computed above\n",
    "        G[i][j] = pow((1 + 1 - 2*exp( (-v) * D[i][j] )), 1)\n",
    "\n",
    "agg = AgglomerativeClustering(n_clusters=2, affinity='precomputed', linkage='average')\n",
    "pred_labels = agg.fit_predict(G)\n",
    "\n",
    "# Tree Purity from Confusion Matrix\n",
    "\n",
    "CM = np.zeros( (2, 2), dtype=int )\n",
    "\n",
    "for i in range(n):\n",
    "    CM[pred_labels[i]][region[i]] += 1\n",
    "    \n",
    "purity = 0\n",
    "\n",
    "for j in range(2):\n",
    "    purity += CM[j].max()\n",
    "    \n",
    "purity /= n\n",
    "\n",
    "print(\"\\nTree purity for full ranking: \", purity)"
   ]
  },
  {
   "cell_type": "markdown",
   "metadata": {},
   "source": [
    "## Generating Monte-Carlo samples consistent with a given partial ranking"
   ]
  },
  {
   "cell_type": "markdown",
   "metadata": {},
   "source": [
    "### Vanilla set of Monte-Carlo samples"
   ]
  },
  {
   "cell_type": "code",
   "execution_count": 82,
   "metadata": {},
   "outputs": [],
   "source": [
    "# Assuming all full permutations are equally distributed within each partial ranking set\n",
    "\n",
    "def MC_vanilla(partial, m):\n",
    "    \n",
    "    top = list(partial)\n",
    "    \n",
    "    # Listing objects missing from partial ranking\n",
    "    remaining = list( {0,1,2,3,4,5,6,7,8,9} - set(top) )\n",
    "    \n",
    "    # Defining set of m Monte Carlo samples \n",
    "    MC_samples = np.zeros( (m, 10), dtype=int )\n",
    "    \n",
    "    for i in range(m):\n",
    "        \n",
    "        # Each iteration shuffles the \"remaining\" objects and generates a full ranking consistent with partial\n",
    "        \n",
    "        random.shuffle(remaining)\n",
    "        full = top + remaining        \n",
    "        MC_samples[i] = np.array(full)\n",
    "\n",
    "    return MC_samples"
   ]
  },
  {
   "cell_type": "markdown",
   "metadata": {},
   "source": [
    "### Monte-Carlo set with antithetic pairs"
   ]
  },
  {
   "cell_type": "code",
   "execution_count": 83,
   "metadata": {},
   "outputs": [],
   "source": [
    "# Function to general set of antithetic pairs of Monte-Carlo samples\n",
    "\n",
    "def MC_antithetic(partial, m):\n",
    "    \n",
    "    top = list(partial)\n",
    "    \n",
    "    # Listing objects missing from partial ranking\n",
    "    remaining = list( {0,1,2,3,4,5,6,7,8,9} - set(top) )\n",
    "    \n",
    "    # Defining set of m Monte Carlo samples \n",
    "    MC_samples = np.zeros( (2*m, 10), dtype=int )\n",
    "    \n",
    "    for i in range(m):\n",
    "        \n",
    "        # Each iteration shuffles the \"remaining\" objects and generates a pair of full rankings\n",
    "        # full1 is ranking consistent with partial\n",
    "        # full2 is the antithetic pair of full1 (i.e. where ranking of \"remaining\" objects is flipped)\n",
    "        \n",
    "        random.shuffle(remaining)\n",
    "        full1 = top + remaining\n",
    "        remaining.reverse()\n",
    "        full2 = top + remaining\n",
    "        \n",
    "        MC_samples[2*i] = np.array(full1)\n",
    "        MC_samples[2*i +1] = np.array(full2)\n",
    "\n",
    "    return MC_samples"
   ]
  },
  {
   "cell_type": "markdown",
   "metadata": {},
   "source": [
    "### Generating matrices of Monte-Carlo samples for each partial ranking: vanilla and antithetic methods"
   ]
  },
  {
   "cell_type": "code",
   "execution_count": 84,
   "metadata": {},
   "outputs": [],
   "source": [
    "vanilla_sample_matrix = np.zeros( (n, 20, 10), dtype=int )\n",
    "antithetic_sample_matrix = np.zeros( (n, 40, 10), dtype=int )\n",
    "\n",
    "for i in range(n):\n",
    "    \n",
    "    vanilla_sample_matrix[i] = MC_vanilla(topkranking[i], 20)\n",
    "    antithetic_sample_matrix[i] = MC_antithetic(topkranking[i],20)"
   ]
  },
  {
   "cell_type": "markdown",
   "metadata": {},
   "source": [
    "## Constructing the Monte-Carlo Estimator"
   ]
  },
  {
   "cell_type": "code",
   "execution_count": 104,
   "metadata": {},
   "outputs": [],
   "source": [
    "# Assuming equal weights to the samples within each set\n",
    "\n",
    "def MC_estimator(samplesA, samplesB):\n",
    "    \n",
    "    N = len(samplesA)\n",
    "    M = len(samplesB)\n",
    "    \n",
    "    v = 0.0922293608473304\n",
    "    estimate = 0\n",
    "    \n",
    "    for i in range(N):\n",
    "        for j in range(M):\n",
    "            \n",
    "            _ , d = kendallTau(samplesA[i],samplesB[j])\n",
    "            \n",
    "            estimate += exp( (-v) * d)\n",
    "\n",
    "    estimate /= N*M\n",
    "    \n",
    "    return estimate"
   ]
  },
  {
   "cell_type": "markdown",
   "metadata": {},
   "source": [
    "## Applying the Estimator"
   ]
  },
  {
   "cell_type": "markdown",
   "metadata": {},
   "source": [
    "### Vanilla method of generating samples"
   ]
  },
  {
   "cell_type": "code",
   "execution_count": 105,
   "metadata": {},
   "outputs": [],
   "source": [
    "# Vanilla Estimator\n",
    "\n",
    "H = np.zeros( (n, n), dtype=float )\n",
    "\n",
    "for i in range(n):\n",
    "    for j in range(n):\n",
    "        \n",
    "        samplesA = vanilla_sample_matrix[i]\n",
    "        samplesB = vanilla_sample_matrix[j]\n",
    "        \n",
    "        A_A = MC_estimator(samplesA, samplesA)\n",
    "        B_B = MC_estimator(samplesB, samplesB)\n",
    "        A_B = MC_estimator(samplesA, samplesB)\n",
    "        \n",
    "        H[i][j] = pow( (A_A + B_B - (2*A_B)) , 0.5 )"
   ]
  },
  {
   "cell_type": "code",
   "execution_count": 108,
   "metadata": {},
   "outputs": [
    {
     "name": "stdout",
     "output_type": "stream",
     "text": [
      "\n",
      "Tree purity for Vanilla estimator:  0.5\n"
     ]
    }
   ],
   "source": [
    "pred_labels_vanilla = agg.fit_predict(H)\n",
    "\n",
    "# Tree Purity from Confusion Matrix\n",
    "\n",
    "CM_vanilla = np.zeros( (2, 2), dtype=int )\n",
    "\n",
    "for i in range(n):\n",
    "    CM_vanilla[pred_labels_vanilla[i]][region[i]] += 1\n",
    "    \n",
    "purity_vanilla = 0\n",
    "\n",
    "for j in range(2):\n",
    "    purity_vanilla += CM_vanilla[j].max()\n",
    "    \n",
    "purity_vanilla /= n\n",
    "\n",
    "print(\"\\nTree purity for Vanilla estimator: \", purity_vanilla)"
   ]
  },
  {
   "cell_type": "markdown",
   "metadata": {},
   "source": [
    "### Antithetic method of generating samples"
   ]
  },
  {
   "cell_type": "code",
   "execution_count": 109,
   "metadata": {},
   "outputs": [],
   "source": [
    "# Antithetic Estimator\n",
    "\n",
    "I = np.zeros( (n, n), dtype=float )\n",
    "\n",
    "for i in range(n):\n",
    "    for j in range(n):\n",
    "        \n",
    "        samplesA = antithetic_sample_matrix[i]\n",
    "        samplesB = antithetic_sample_matrix[j]\n",
    "        \n",
    "        A_A = MC_estimator(samplesA, samplesA)\n",
    "        B_B = MC_estimator(samplesB, samplesB)\n",
    "        A_B = MC_estimator(samplesA, samplesB)\n",
    "        \n",
    "        I[i][j] = pow( (A_A + B_B - (2*A_B)) , 0.5 )"
   ]
  },
  {
   "cell_type": "code",
   "execution_count": 110,
   "metadata": {},
   "outputs": [
    {
     "name": "stdout",
     "output_type": "stream",
     "text": [
      "\n",
      "Tree purity for Antithetic estimator:  0.5\n"
     ]
    }
   ],
   "source": [
    "pred_labels_antithetic = agg.fit_predict(I)\n",
    "\n",
    "# Tree Purity from Confusion Matrix\n",
    "\n",
    "CM_antithetic = np.zeros( (2, 2), dtype=int )\n",
    "\n",
    "for i in range(n):\n",
    "    CM_antithetic[pred_labels_antithetic[i]][region[i]] += 1\n",
    "    \n",
    "purity_antithetic = 0\n",
    "\n",
    "for j in range(2):\n",
    "    purity_antithetic += CM_antithetic[j].max()\n",
    "    \n",
    "purity_antithetic /= n\n",
    "\n",
    "print(\"\\nTree purity for Antithetic estimator: \", purity_antithetic)"
   ]
  }
 ],
 "metadata": {
  "kernelspec": {
   "display_name": "Python 3",
   "language": "python",
   "name": "python3"
  },
  "language_info": {
   "codemirror_mode": {
    "name": "ipython",
    "version": 3
   },
   "file_extension": ".py",
   "mimetype": "text/x-python",
   "name": "python",
   "nbconvert_exporter": "python",
   "pygments_lexer": "ipython3",
   "version": "3.8.3"
  }
 },
 "nbformat": 4,
 "nbformat_minor": 4
}
